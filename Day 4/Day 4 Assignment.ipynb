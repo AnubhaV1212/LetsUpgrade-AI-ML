{
 "cells": [
  {
   "cell_type": "markdown",
   "metadata": {},
   "source": [
    "# Question 1"
   ]
  },
  {
   "cell_type": "code",
   "execution_count": 11,
   "metadata": {},
   "outputs": [
    {
     "name": "stdout",
     "output_type": "stream",
     "text": [
      "First No :3+4j\n",
      "Second No:3+4j\n",
      "(6+8j)\n",
      "0j\n",
      "(-7+24j)\n",
      "(1+0j)\n"
     ]
    }
   ],
   "source": [
    "a= complex(input(\"First No :\"))\n",
    "b= complex(input(\"Second No:\"))\n",
    "addition = a+b\n",
    "subtraction = a-b\n",
    "multiplication = a*b\n",
    "division = a/b\n",
    "# floor_division = a//b\n",
    "# modulo = a%b\n",
    "print(addition)\n",
    "print(subtraction)\n",
    "print(multiplication)\n",
    "print(division)\n",
    "# print(floor_division)\n",
    "# print(modulo)"
   ]
  },
  {
   "cell_type": "markdown",
   "metadata": {},
   "source": [
    "# Question 2"
   ]
  },
  {
   "cell_type": "markdown",
   "metadata": {},
   "source": [
    "## Range\n",
    "\n",
    "Range() function returns a sequence of numbers, starting from 0 by default, and increments by 1 (by default), and stops before a less than the last number.\n",
    "\n",
    "range (start, stop , interval)"
   ]
  },
  {
   "cell_type": "code",
   "execution_count": 6,
   "metadata": {},
   "outputs": [
    {
     "name": "stdout",
     "output_type": "stream",
     "text": [
      "1\n",
      "3\n",
      "5\n",
      "7\n",
      "9\n"
     ]
    }
   ],
   "source": [
    "for i in range(1,11,2):\n",
    "    print(i)"
   ]
  },
  {
   "cell_type": "markdown",
   "metadata": {},
   "source": [
    "# Question 3"
   ]
  },
  {
   "cell_type": "code",
   "execution_count": 7,
   "metadata": {},
   "outputs": [
    {
     "name": "stdout",
     "output_type": "stream",
     "text": [
      "Enter first number100\n",
      "Enter second number25\n",
      "2500.0\n"
     ]
    }
   ],
   "source": [
    "a=float(input(\"Enter first number\"))\n",
    "b=float(input(\"Enter second number\"))\n",
    "x=a-b\n",
    "if x > 25 :\n",
    "    print(a*b)\n",
    "else:\n",
    "    print(a/b)"
   ]
  },
  {
   "cell_type": "markdown",
   "metadata": {},
   "source": [
    "# Question 4"
   ]
  },
  {
   "cell_type": "code",
   "execution_count": 9,
   "metadata": {},
   "outputs": [
    {
     "name": "stdout",
     "output_type": "stream",
     "text": [
      "Square of that number minus 2 : 2\n",
      "Square of that number minus 2 : 14\n",
      "Square of that number minus 2 : 34\n",
      "Square of that number minus 2 : 62\n",
      "Square of that number minus 2 : 98\n"
     ]
    }
   ],
   "source": [
    "list1 = [1,2,3,4,5,6,7,8,9,10]\n",
    "for i in list1 :\n",
    "    if i % 2 == 0 :\n",
    "        x = ((i**2)-2)\n",
    "        print(\"Square of that number minus 2 :\",x)"
   ]
  },
  {
   "cell_type": "markdown",
   "metadata": {},
   "source": [
    "# Question 5"
   ]
  },
  {
   "cell_type": "code",
   "execution_count": 10,
   "metadata": {},
   "outputs": [
    {
     "name": "stdout",
     "output_type": "stream",
     "text": [
      "the elements in the list which are greater than 7 when that number is divided 2. : 4.0\n",
      "the elements in the list which are greater than 7 when that number is divided 2. : 4.5\n",
      "the elements in the list which are greater than 7 when that number is divided 2. : 5.0\n"
     ]
    }
   ],
   "source": [
    "list1 = [1,2,3,4,5,6,7,8,9,10]\n",
    "for i in list1 :\n",
    "    if i > 7:\n",
    "        x = (i/2)\n",
    "        print(\"the elements in the list which are greater than 7 when that number is divided 2. :\",x)"
   ]
  }
 ],
 "metadata": {
  "kernelspec": {
   "display_name": "Python 3",
   "language": "python",
   "name": "python3"
  },
  "language_info": {
   "codemirror_mode": {
    "name": "ipython",
    "version": 3
   },
   "file_extension": ".py",
   "mimetype": "text/x-python",
   "name": "python",
   "nbconvert_exporter": "python",
   "pygments_lexer": "ipython3",
   "version": "3.7.6"
  }
 },
 "nbformat": 4,
 "nbformat_minor": 4
}
